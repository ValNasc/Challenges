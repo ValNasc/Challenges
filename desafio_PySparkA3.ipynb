{
  "nbformat": 4,
  "nbformat_minor": 5,
  "metadata": {
    "kernelspec": {
      "display_name": "Python 3",
      "language": "python",
      "name": "python3"
    },
    "language_info": {
      "codemirror_mode": {
        "name": "ipython",
        "version": 3
      },
      "file_extension": ".py",
      "mimetype": "text/x-python",
      "name": "python",
      "nbconvert_exporter": "python",
      "pygments_lexer": "ipython3",
      "version": "3.9.1"
    },
    "colab": {
      "name": "desafio-revisado (1).ipynb",
      "provenance": [],
      "collapsed_sections": []
    }
  },
  "cells": [
    {
      "cell_type": "markdown",
      "metadata": {
        "id": "58401783-0500-465e-b05f-c47d68b2b4d9"
      },
      "source": [
        "### Executar apenas no GOOGLE COLAB"
      ],
      "id": "58401783-0500-465e-b05f-c47d68b2b4d9"
    },
    {
      "cell_type": "code",
      "metadata": {
        "colab": {
          "base_uri": "https://localhost:8080/"
        },
        "id": "aeabfd48-950a-480d-9ed7-29f2c0112238",
        "outputId": "6ee4da49-2bb9-46d5-db9e-a7e738c81604"
      },
      "source": [
        "!pip install pyspark"
      ],
      "id": "aeabfd48-950a-480d-9ed7-29f2c0112238",
      "execution_count": null,
      "outputs": [
        {
          "output_type": "stream",
          "name": "stdout",
          "text": [
            "Collecting pyspark\n",
            "  Downloading pyspark-3.1.2.tar.gz (212.4 MB)\n",
            "\u001b[K     |████████████████████████████████| 212.4 MB 63 kB/s \n",
            "\u001b[?25hCollecting py4j==0.10.9\n",
            "  Downloading py4j-0.10.9-py2.py3-none-any.whl (198 kB)\n",
            "\u001b[K     |████████████████████████████████| 198 kB 60.8 MB/s \n",
            "\u001b[?25hBuilding wheels for collected packages: pyspark\n",
            "  Building wheel for pyspark (setup.py) ... \u001b[?25l\u001b[?25hdone\n",
            "  Created wheel for pyspark: filename=pyspark-3.1.2-py2.py3-none-any.whl size=212880768 sha256=c9dbc20589d3ab0c643828d61ad19b0f4314c11abc4d2e092a80e4aeb64382c3\n",
            "  Stored in directory: /root/.cache/pip/wheels/a5/0a/c1/9561f6fecb759579a7d863dcd846daaa95f598744e71b02c77\n",
            "Successfully built pyspark\n",
            "Installing collected packages: py4j, pyspark\n",
            "Successfully installed py4j-0.10.9 pyspark-3.1.2\n"
          ]
        }
      ]
    },
    {
      "cell_type": "markdown",
      "metadata": {
        "id": "13945131-125e-4b7c-aaf3-2e3049e0b937"
      },
      "source": [
        "### Cria um mount point no seu Google Drive para acessar os dados do DataLake"
      ],
      "id": "13945131-125e-4b7c-aaf3-2e3049e0b937"
    },
    {
      "cell_type": "markdown",
      "metadata": {
        "id": "137db32f-a14e-4aa9-b847-359cfa0b4c10"
      },
      "source": [
        "- Execute e passe o código solicitado"
      ],
      "id": "137db32f-a14e-4aa9-b847-359cfa0b4c10"
    },
    {
      "cell_type": "code",
      "metadata": {
        "colab": {
          "base_uri": "https://localhost:8080/"
        },
        "id": "f1091576-b0d8-4a26-8488-2710c8cb3a6a",
        "outputId": "304fd3ef-3433-4a28-8a54-22896388ad34"
      },
      "source": [
        "from google.colab import drive\n",
        "drive.mount('/content/drive/')"
      ],
      "id": "f1091576-b0d8-4a26-8488-2710c8cb3a6a",
      "execution_count": null,
      "outputs": [
        {
          "output_type": "stream",
          "name": "stdout",
          "text": [
            "Mounted at /content/drive/\n"
          ]
        }
      ]
    },
    {
      "cell_type": "code",
      "metadata": {
        "id": "fslH3qQjhRxT"
      },
      "source": [
        "from pyspark.sql import SparkSession"
      ],
      "id": "fslH3qQjhRxT",
      "execution_count": null,
      "outputs": []
    },
    {
      "cell_type": "markdown",
      "metadata": {
        "id": "MQdau7fiMYjM"
      },
      "source": [
        "Inicialize uma Sessão do Spark\n"
      ],
      "id": "MQdau7fiMYjM"
    },
    {
      "cell_type": "code",
      "metadata": {
        "id": "K7T453eghx_3"
      },
      "source": [
        "spark = SparkSession.builder.appName('desafio_a3').getOrCreate()"
      ],
      "id": "K7T453eghx_3",
      "execution_count": null,
      "outputs": []
    },
    {
      "cell_type": "markdown",
      "metadata": {
        "id": "6FQwBMaEM6t8"
      },
      "source": [
        "Criando Dataframe df_commerce"
      ],
      "id": "6FQwBMaEM6t8"
    },
    {
      "cell_type": "code",
      "metadata": {
        "id": "fI2zrcZciBy6"
      },
      "source": [
        "df_commerce = spark.read.format('json')\\\n",
        " .load('/content/drive/MyDrive/datalake/datalake/landing-zone/commerce/commerce_*.json')"
      ],
      "id": "fI2zrcZciBy6",
      "execution_count": null,
      "outputs": []
    },
    {
      "cell_type": "code",
      "metadata": {
        "colab": {
          "base_uri": "https://localhost:8080/"
        },
        "id": "TMz6Dk5WjdII",
        "outputId": "a1003129-ed3a-4564-9241-25dbf77c6201"
      },
      "source": [
        "df_commerce.count()"
      ],
      "id": "TMz6Dk5WjdII",
      "execution_count": null,
      "outputs": [
        {
          "output_type": "execute_result",
          "data": {
            "text/plain": [
              "800"
            ]
          },
          "metadata": {},
          "execution_count": 116
        }
      ]
    },
    {
      "cell_type": "code",
      "metadata": {
        "colab": {
          "base_uri": "https://localhost:8080/"
        },
        "id": "Jhnb4urxjMSZ",
        "outputId": "cf605f97-3171-4ebb-ff31-e93aa90bdf30"
      },
      "source": [
        "df_commerce.printSchema()"
      ],
      "id": "Jhnb4urxjMSZ",
      "execution_count": null,
      "outputs": [
        {
          "output_type": "stream",
          "name": "stdout",
          "text": [
            "root\n",
            " |-- department: string (nullable = true)\n",
            " |-- product_name: string (nullable = true)\n",
            " |-- price: double (nullable = true)\n",
            " |-- user_id: long (nullable = true)\n",
            "\n"
          ]
        }
      ]
    },
    {
      "cell_type": "code",
      "metadata": {
        "id": "9-5Y_0Y0lHt1"
      },
      "source": [
        "df_commerce = df_commerce.select('department','product_name', 'price','user_id')"
      ],
      "id": "9-5Y_0Y0lHt1",
      "execution_count": null,
      "outputs": []
    },
    {
      "cell_type": "code",
      "metadata": {
        "id": "AJ936F0I_B-W"
      },
      "source": [
        "df_commerce.write.mode('overwrite').format('parquet')\\\n",
        "  .save('/content/drive/MyDrive/datalake/datalake/processing-zone/commerce')"
      ],
      "id": "AJ936F0I_B-W",
      "execution_count": null,
      "outputs": []
    },
    {
      "cell_type": "markdown",
      "metadata": {
        "id": "vdeCNvQXNF35"
      },
      "source": [
        "Criando Dataframe df_device"
      ],
      "id": "vdeCNvQXNF35"
    },
    {
      "cell_type": "code",
      "metadata": {
        "id": "eK13WppHjYFC"
      },
      "source": [
        "df_device = spark.read.format('json')\\\n",
        "  .load('/content/drive/MyDrive/datalake/datalake/landing-zone/device/device_*.json')"
      ],
      "id": "eK13WppHjYFC",
      "execution_count": null,
      "outputs": []
    },
    {
      "cell_type": "code",
      "metadata": {
        "colab": {
          "base_uri": "https://localhost:8080/"
        },
        "id": "LSPp_zDwkFhV",
        "outputId": "bc7ade87-7b08-4a0f-8c87-082610dbb104"
      },
      "source": [
        "df_device.count()"
      ],
      "id": "LSPp_zDwkFhV",
      "execution_count": null,
      "outputs": [
        {
          "output_type": "execute_result",
          "data": {
            "text/plain": [
              "800"
            ]
          },
          "metadata": {},
          "execution_count": 121
        }
      ]
    },
    {
      "cell_type": "code",
      "metadata": {
        "colab": {
          "base_uri": "https://localhost:8080/"
        },
        "id": "9cn06lY0kJb_",
        "outputId": "1d1c03d2-0223-4e41-b8fc-7e12c5609864"
      },
      "source": [
        "df_device.printSchema()"
      ],
      "id": "9cn06lY0kJb_",
      "execution_count": null,
      "outputs": [
        {
          "output_type": "stream",
          "name": "stdout",
          "text": [
            "root\n",
            " |-- platform: string (nullable = true)\n",
            " |-- model: string (nullable = true)\n",
            " |-- user_id: long (nullable = true)\n",
            "\n"
          ]
        }
      ]
    },
    {
      "cell_type": "code",
      "metadata": {
        "id": "zS1aKp_rmqon"
      },
      "source": [
        "df_device = df_device.select('platform','model','user_id')"
      ],
      "id": "zS1aKp_rmqon",
      "execution_count": null,
      "outputs": []
    },
    {
      "cell_type": "code",
      "metadata": {
        "id": "aOsjSQbkIcyK"
      },
      "source": [
        "df_device.write.mode('overwrite').format('parquet')\\\n",
        "  .save('/content/drive/MyDrive/datalake/datalake/processing-zone/device')"
      ],
      "id": "aOsjSQbkIcyK",
      "execution_count": null,
      "outputs": []
    },
    {
      "cell_type": "markdown",
      "metadata": {
        "id": "P1SsuA0ONOo_"
      },
      "source": [
        "Criando Dataframe df_user"
      ],
      "id": "P1SsuA0ONOo_"
    },
    {
      "cell_type": "code",
      "metadata": {
        "id": "ma6pKF7VkNi2"
      },
      "source": [
        "df_user = spark.read.format('json')\\\n",
        "  .load('/content/drive/MyDrive/datalake/datalake/landing-zone/user/user_*.json')"
      ],
      "id": "ma6pKF7VkNi2",
      "execution_count": null,
      "outputs": []
    },
    {
      "cell_type": "code",
      "metadata": {
        "colab": {
          "base_uri": "https://localhost:8080/"
        },
        "id": "LOhrzSVckXjT",
        "outputId": "efa5f11d-2632-440f-cc2e-4e9b8cacbae6"
      },
      "source": [
        "df_user.count()"
      ],
      "id": "LOhrzSVckXjT",
      "execution_count": null,
      "outputs": [
        {
          "output_type": "execute_result",
          "data": {
            "text/plain": [
              "800"
            ]
          },
          "metadata": {},
          "execution_count": 129
        }
      ]
    },
    {
      "cell_type": "code",
      "metadata": {
        "colab": {
          "base_uri": "https://localhost:8080/"
        },
        "id": "i8WCfG_akbeL",
        "outputId": "c1c57705-d41c-4bd3-c566-9616ceb8c9e6"
      },
      "source": [
        "df_user.printSchema()"
      ],
      "id": "i8WCfG_akbeL",
      "execution_count": null,
      "outputs": [
        {
          "output_type": "stream",
          "name": "stdout",
          "text": [
            "root\n",
            " |-- user_id: long (nullable = true)\n",
            " |-- first_name: string (nullable = true)\n",
            " |-- last_name: string (nullable = true)\n",
            " |-- email: string (nullable = true)\n",
            " |-- date_of_birth: string (nullable = true)\n",
            "\n"
          ]
        }
      ]
    },
    {
      "cell_type": "code",
      "metadata": {
        "id": "vrg2ovkTkgUa"
      },
      "source": [
        "df_user = df_user.select('user_id','first_name','last_name','email','date_of_birth')"
      ],
      "id": "vrg2ovkTkgUa",
      "execution_count": null,
      "outputs": []
    },
    {
      "cell_type": "code",
      "metadata": {
        "id": "7EygZloAKRf3"
      },
      "source": [
        "df_user.write.mode('overwrite').format('parquet')\\\n",
        "  .save('/content/drive/MyDrive/datalake/datalake/processing-zone/user')"
      ],
      "id": "7EygZloAKRf3",
      "execution_count": null,
      "outputs": []
    },
    {
      "cell_type": "markdown",
      "metadata": {
        "id": "eCMoaC3KCJFu"
      },
      "source": [
        "Lendo Arquivos Parquet"
      ],
      "id": "eCMoaC3KCJFu"
    },
    {
      "cell_type": "code",
      "metadata": {
        "id": "-OS9xLO6CHYN"
      },
      "source": [
        "df_commerce_pro = spark.read.format('parquet')\\\n",
        "  .load('/content/drive/MyDrive/datalake/datalake/processing-zone/commerce/*.parquet')"
      ],
      "id": "-OS9xLO6CHYN",
      "execution_count": null,
      "outputs": []
    },
    {
      "cell_type": "code",
      "metadata": {
        "id": "fnedpt_ODaMb"
      },
      "source": [
        "df_device_pro = spark.read.format('parquet')\\\n",
        "  .load('/content/drive/MyDrive/datalake/datalake/processing-zone/device/*.parquet')"
      ],
      "id": "fnedpt_ODaMb",
      "execution_count": null,
      "outputs": []
    },
    {
      "cell_type": "code",
      "metadata": {
        "id": "9-fYucxDDa_P"
      },
      "source": [
        "df_user_pro = spark.read.format('parquet')\\\n",
        "  .load('/content/drive/MyDrive/datalake/datalake/processing-zone/user/*.parquet')"
      ],
      "id": "9-fYucxDDa_P",
      "execution_count": null,
      "outputs": []
    },
    {
      "cell_type": "markdown",
      "metadata": {
        "id": "65KlcRZLNUXd"
      },
      "source": [
        "Unindo df_commerce e df_device"
      ],
      "id": "65KlcRZLNUXd"
    },
    {
      "cell_type": "code",
      "metadata": {
        "id": "Wgw9HwFOnbSo"
      },
      "source": [
        "df_commerce_device = df_commerce_pro.select('department','product_name', 'price','user_id')\\\n",
        "  .join(df_device_pro.select('platform','model','user_id'), ['user_id'],\"left\")"
      ],
      "id": "Wgw9HwFOnbSo",
      "execution_count": null,
      "outputs": []
    },
    {
      "cell_type": "code",
      "metadata": {
        "colab": {
          "base_uri": "https://localhost:8080/"
        },
        "id": "v9KlZ1B37T8v",
        "outputId": "dfb594bc-a26d-4566-be2b-75c4893a7450"
      },
      "source": [
        "df_commerce_device.printSchema()"
      ],
      "id": "v9KlZ1B37T8v",
      "execution_count": null,
      "outputs": [
        {
          "output_type": "stream",
          "name": "stdout",
          "text": [
            "root\n",
            " |-- user_id: long (nullable = true)\n",
            " |-- department: string (nullable = true)\n",
            " |-- product_name: string (nullable = true)\n",
            " |-- price: double (nullable = true)\n",
            " |-- platform: string (nullable = true)\n",
            " |-- model: string (nullable = true)\n",
            "\n"
          ]
        }
      ]
    },
    {
      "cell_type": "markdown",
      "metadata": {
        "id": "7sSJKqAfNqNV"
      },
      "source": [
        "Unindo df_commerce_device e df_user"
      ],
      "id": "7sSJKqAfNqNV"
    },
    {
      "cell_type": "code",
      "metadata": {
        "id": "qb0ksnrno9TQ"
      },
      "source": [
        "df_commerce_device_user = df_commerce_device\\\n",
        "  .join(df_user_pro.select('user_id','first_name','last_name','email','date_of_birth'), ['user_id'],\"left\")"
      ],
      "id": "qb0ksnrno9TQ",
      "execution_count": null,
      "outputs": []
    },
    {
      "cell_type": "code",
      "metadata": {
        "colab": {
          "base_uri": "https://localhost:8080/"
        },
        "id": "Cf-e0-HFpL7C",
        "outputId": "cab5eb1c-9de3-436b-903e-d5b67c73c08c"
      },
      "source": [
        "df_commerce_device_user.printSchema()"
      ],
      "id": "Cf-e0-HFpL7C",
      "execution_count": null,
      "outputs": [
        {
          "output_type": "stream",
          "name": "stdout",
          "text": [
            "root\n",
            " |-- user_id: long (nullable = true)\n",
            " |-- department: string (nullable = true)\n",
            " |-- product_name: string (nullable = true)\n",
            " |-- price: double (nullable = true)\n",
            " |-- platform: string (nullable = true)\n",
            " |-- model: string (nullable = true)\n",
            " |-- first_name: string (nullable = true)\n",
            " |-- last_name: string (nullable = true)\n",
            " |-- email: string (nullable = true)\n",
            " |-- date_of_birth: string (nullable = true)\n",
            "\n"
          ]
        }
      ]
    },
    {
      "cell_type": "markdown",
      "metadata": {
        "id": "OgbOsUouNvZL"
      },
      "source": [
        "Gravando df_commerce_device_user em consume-zone"
      ],
      "id": "OgbOsUouNvZL"
    },
    {
      "cell_type": "code",
      "metadata": {
        "id": "iRmzY9svpUhD"
      },
      "source": [
        "df_commerce_device_user.write.mode('overwrite').format('parquet')\\\n",
        "  .save('/content/drive/MyDrive/datalake/datalake/consumer-zone/commerce_device_user')"
      ],
      "id": "iRmzY9svpUhD",
      "execution_count": null,
      "outputs": []
    },
    {
      "cell_type": "code",
      "metadata": {
        "id": "T5YSti6s99PZ",
        "colab": {
          "base_uri": "https://localhost:8080/"
        },
        "outputId": "afec5a92-4cfc-4426-81d6-866bb3ca49c1"
      },
      "source": [
        "df_commerce_device_user.show()"
      ],
      "id": "T5YSti6s99PZ",
      "execution_count": null,
      "outputs": [
        {
          "output_type": "stream",
          "name": "stdout",
          "text": [
            "+-------+--------------------+--------------------+-----+----------+----------+----------+----------+--------------------+-------------+\n",
            "|user_id|          department|        product_name|price|  platform|     model|first_name| last_name|               email|date_of_birth|\n",
            "+-------+--------------------+--------------------+-----+----------+----------+----------+----------+--------------------+-------------+\n",
            "|   1056|        Baby & Tools|Lightweight Woode...|46.07|      null|      null|      null|      null|                null|         null|\n",
            "|   1568|      Health & Games|Mediocre Concrete...| 2.83|      null|      null|      null|      null|                null|         null|\n",
            "|   3272|               Music|Aerodynamic Paper...|80.08|      null|      null|    Dudley|McCullough|dudley.mccullough...|   1975-05-10|\n",
            "|   3473|         Electronics|Practical Plastic...|87.25|      null|      null|      null|      null|                null|         null|\n",
            "|   4207|              Movies|Small Concrete Table|55.72|      null|      null|      null|      null|                null|         null|\n",
            "|   2903|             Jewelry|Practical Copper ...|25.77|      null|      null|      null|      null|                null|         null|\n",
            "|   3960|               Shoes|Heavy Duty Plasti...| 60.1|      null|      null|    Darron|     Berge|darron.berge@emai...|   1994-06-25|\n",
            "|   2577|     Books & Jewelry|Gorgeous Rubber C...|19.07|      null|      null|  Mohammed| Cummerata|mohammed.cummerat...|   1956-05-14|\n",
            "|   5178| Garden & Industrial|Heavy Duty Bronze...|35.99|      null|      null|      null|      null|                null|         null|\n",
            "|   5323|       Music & Books|Incredible Iron Coat|87.76|      null|      null|      null|      null|                null|         null|\n",
            "|   8051|                Toys|Incredible Concre...|70.44|Windows RT|Huawei P20|      null|      null|                null|         null|\n",
            "|   2118|Computers & Indus...|   Sleek Paper Table|66.97|      null|      null|      null|      null|                null|         null|\n",
            "|   7712|    Shoes & Outdoors| Small Concrete Lamp|75.38|      null|      null|      null|      null|                null|         null|\n",
            "|   1975|            Outdoors|Enormous Concrete...|58.56|      null|      null|      null|      null|                null|         null|\n",
            "|   6084|            Outdoors|   Small Cotton Lamp|27.07|      null|      null|      null|      null|                null|         null|\n",
            "|   7504|        Books & Toys|Practical Marble ...|76.17|      null|      null|      null|      null|                null|         null|\n",
            "|   7749|                Home|  Rustic Steel Table|52.79|      null|      null|      null|      null|                null|         null|\n",
            "|   5213|            Clothing|   Durable Wool Lamp|51.74|      null|      null|      null|      null|                null|         null|\n",
            "|   4280|    Grocery & Sports|Lightweight Linen...|30.71|      null|      null|      null|      null|                null|         null|\n",
            "|   8942|     Kids & Clothing|Enormous Steel Clock|98.82|      null|      null|      null|      null|                null|         null|\n",
            "+-------+--------------------+--------------------+-----+----------+----------+----------+----------+--------------------+-------------+\n",
            "only showing top 20 rows\n",
            "\n"
          ]
        }
      ]
    }
  ]
}